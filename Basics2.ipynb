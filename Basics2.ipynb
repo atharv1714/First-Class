{
 "cells": [
  {
   "cell_type": "code",
   "execution_count": null,
   "id": "90e7e9bc",
   "metadata": {},
   "outputs": [],
   "source": [
    "# Agenda\n",
    "\n",
    "how to write variables\n",
    "\n",
    "print and input\n",
    "\n",
    "strings\n",
    "\n",
    "if else\n",
    "\n",
    "for loop\n",
    "\n",
    "boolean actual functions\n",
    "\n",
    "\n"
   ]
  },
  {
   "cell_type": "markdown",
   "id": "2defd4ca",
   "metadata": {},
   "source": [
    "# how to write variables"
   ]
  },
  {
   "cell_type": "code",
   "execution_count": null,
   "id": "90c3ecf8",
   "metadata": {},
   "outputs": [],
   "source": []
  },
  {
   "cell_type": "code",
   "execution_count": null,
   "id": "e53eeb57",
   "metadata": {},
   "outputs": [],
   "source": [
    "# 1. You can write variable name as with any length.\n",
    "a = 10\n",
    "mydata = 3.55\n",
    "new_project_input_variable_1341254254265412542541254126541254 = \"some new info\"\n",
    "\n",
    "print( a )\n",
    "print( mydata )\n",
    "print( new_project_input_variable_1341254254265412542541254126541254 )\n"
   ]
  },
  {
   "cell_type": "code",
   "execution_count": null,
   "id": "65225bb5",
   "metadata": {},
   "outputs": [],
   "source": []
  },
  {
   "cell_type": "code",
   "execution_count": null,
   "id": "f5153346",
   "metadata": {},
   "outputs": [],
   "source": [
    "# 2. my variable names shall contain letters, numbers and _\n",
    "\n",
    "\n",
    "place = \"Delhi\"\n",
    "new_place = \"Pune\"\n",
    "my_place_100 = \"Jaipur\"\n",
    "place8 = \"Raipur\"\n",
    "\n",
    "print( place )\n",
    "print( new_place )\n",
    "print( my_place_100 )\n",
    "print( place8 )\n"
   ]
  },
  {
   "cell_type": "code",
   "execution_count": null,
   "id": "4b3b3308",
   "metadata": {},
   "outputs": [],
   "source": []
  },
  {
   "cell_type": "code",
   "execution_count": null,
   "id": "b79dec3e",
   "metadata": {},
   "outputs": [],
   "source": [
    "# 3. variable names shall not start with numbers\n",
    "\n",
    "\n",
    "place = \"Delhi\"\n",
    "_place = \"Pune\"\n",
    "_100 = \"Jaipur\"\n",
    "# 8place = \"Raipur\"\n",
    "\n",
    "print( place )\n",
    "print( _place )\n",
    "print( _100 )\n",
    "# print( 8place )\n"
   ]
  },
  {
   "cell_type": "code",
   "execution_count": null,
   "id": "af7b8f59",
   "metadata": {},
   "outputs": [],
   "source": [
    "# 4. No special character allowed\n",
    "# ~!@#$%^&*()_}{:\"?><\"}\n",
    "\n",
    "# place$1 = 5412\n",
    "# data-`~new = 35841254\n",
    "\n",
    "# new placce = \"delhi\""
   ]
  },
  {
   "cell_type": "code",
   "execution_count": null,
   "id": "c754ab23",
   "metadata": {},
   "outputs": [],
   "source": []
  },
  {
   "cell_type": "code",
   "execution_count": null,
   "id": "22930c43",
   "metadata": {},
   "outputs": [],
   "source": [
    "# 5. No Keywords allowed.\n",
    "\n",
    "# if = 60\n",
    "# break = 100\n",
    "# for = 584284\n",
    "\n",
    "# some built in functions are there so you shall avoid using them also, else you will get \"not callable\" problems\n",
    "# eg : int, float, str, set, list...."
   ]
  },
  {
   "cell_type": "code",
   "execution_count": 14,
   "id": "9c0f53cc",
   "metadata": {},
   "outputs": [
    {
     "name": "stdout",
     "output_type": "stream",
     "text": [
      "['False', 'None', 'True', '__peg_parser__', 'and', 'as', 'assert', 'async', 'await', 'break', 'class', 'continue', 'def', 'del', 'elif', 'else', 'except', 'finally', 'for', 'from', 'global', 'if', 'import', 'in', 'is', 'lambda', 'nonlocal', 'not', 'or', 'pass', 'raise', 'return', 'try', 'while', 'with', 'yield']\n"
     ]
    }
   ],
   "source": [
    "import keyword # using the package \"keyword\" in my python environment\n",
    "\n",
    "print( keyword.kwlist )\n"
   ]
  },
  {
   "cell_type": "code",
   "execution_count": 11,
   "id": "e06da800",
   "metadata": {},
   "outputs": [
    {
     "data": {
      "text/plain": [
       "('64bit', 'WindowsPE')"
      ]
     },
     "execution_count": 11,
     "metadata": {},
     "output_type": "execute_result"
    }
   ],
   "source": [
    "import platform\n",
    "platform.architecture()"
   ]
  },
  {
   "cell_type": "code",
   "execution_count": 12,
   "id": "1d8bc5cd",
   "metadata": {},
   "outputs": [
    {
     "name": "stdout",
     "output_type": "stream",
     "text": [
      "4.605170185988092\n",
      "10.0\n"
     ]
    }
   ],
   "source": [
    "import math\n",
    "print( math.log(100) )\n",
    "print( math.sqrt(100) )\n"
   ]
  },
  {
   "cell_type": "code",
   "execution_count": 17,
   "id": "db458626",
   "metadata": {},
   "outputs": [],
   "source": [
    "# False = 30"
   ]
  },
  {
   "cell_type": "code",
   "execution_count": 19,
   "id": "eef350c4",
   "metadata": {},
   "outputs": [
    {
     "name": "stdout",
     "output_type": "stream",
     "text": [
      "10000\n"
     ]
    }
   ],
   "source": [
    "name = \"10000\"\n",
    "new_name = int(name)\n",
    "print(new_name)\n"
   ]
  },
  {
   "cell_type": "code",
   "execution_count": 20,
   "id": "cafc8e36",
   "metadata": {},
   "outputs": [
    {
     "name": "stdout",
     "output_type": "stream",
     "text": [
      "True\n"
     ]
    }
   ],
   "source": [
    "name = \"True\"\n",
    "new_name = bool(name)\n",
    "print(new_name)\n"
   ]
  },
  {
   "cell_type": "code",
   "execution_count": null,
   "id": "b7a72cc1",
   "metadata": {},
   "outputs": [],
   "source": []
  },
  {
   "cell_type": "code",
   "execution_count": 1,
   "id": "7f0568e8",
   "metadata": {},
   "outputs": [],
   "source": [
    "# print = 1000\n",
    "# print"
   ]
  },
  {
   "cell_type": "code",
   "execution_count": 2,
   "id": "b8552649",
   "metadata": {},
   "outputs": [
    {
     "name": "stdout",
     "output_type": "stream",
     "text": [
      "Hellow\n"
     ]
    }
   ],
   "source": [
    "print(\"Hellow\")"
   ]
  },
  {
   "cell_type": "code",
   "execution_count": null,
   "id": "3eb77310",
   "metadata": {},
   "outputs": [],
   "source": []
  },
  {
   "cell_type": "code",
   "execution_count": 3,
   "id": "c1229222",
   "metadata": {},
   "outputs": [
    {
     "data": {
      "text/plain": [
       "1"
      ]
     },
     "execution_count": 3,
     "metadata": {},
     "output_type": "execute_result"
    }
   ],
   "source": [
    "value = True\n",
    "new_value = int(value)\n",
    "\n",
    "new_value"
   ]
  },
  {
   "cell_type": "code",
   "execution_count": null,
   "id": "73c9deb2",
   "metadata": {},
   "outputs": [],
   "source": []
  },
  {
   "cell_type": "code",
   "execution_count": 5,
   "id": "73b01745",
   "metadata": {},
   "outputs": [
    {
     "name": "stdout",
     "output_type": "stream",
     "text": [
      "<class 'int'>\n"
     ]
    },
    {
     "data": {
      "text/plain": [
       "100"
      ]
     },
     "execution_count": 5,
     "metadata": {},
     "output_type": "execute_result"
    }
   ],
   "source": [
    "str_1 = \"100\"\n",
    "new_value = int(str_1)\n",
    "\n",
    "print( type( new_value ) )\n",
    "new_value"
   ]
  },
  {
   "cell_type": "code",
   "execution_count": null,
   "id": "eed9097b",
   "metadata": {},
   "outputs": [],
   "source": []
  },
  {
   "cell_type": "code",
   "execution_count": 6,
   "id": "85255a7e",
   "metadata": {},
   "outputs": [],
   "source": [
    "# int = 100\n",
    "# int"
   ]
  },
  {
   "cell_type": "code",
   "execution_count": 22,
   "id": "38b74dcf",
   "metadata": {},
   "outputs": [
    {
     "data": {
      "text/plain": [
       "'100'"
      ]
     },
     "execution_count": 22,
     "metadata": {},
     "output_type": "execute_result"
    }
   ],
   "source": [
    "str"
   ]
  },
  {
   "cell_type": "code",
   "execution_count": 21,
   "id": "cc1261fc",
   "metadata": {},
   "outputs": [
    {
     "name": "stdout",
     "output_type": "stream",
     "text": [
      "<class 'int'>\n"
     ]
    },
    {
     "data": {
      "text/plain": [
       "100"
      ]
     },
     "execution_count": 21,
     "metadata": {},
     "output_type": "execute_result"
    }
   ],
   "source": [
    "str = \"100\"\n",
    "new_value = int(str)\n",
    "\n",
    "print( type( new_value ) )\n",
    "new_value"
   ]
  },
  {
   "cell_type": "code",
   "execution_count": null,
   "id": "13798a0f",
   "metadata": {},
   "outputs": [],
   "source": []
  },
  {
   "cell_type": "code",
   "execution_count": 8,
   "id": "6077e500",
   "metadata": {},
   "outputs": [
    {
     "data": {
      "text/plain": [
       "'60.25'"
      ]
     },
     "execution_count": 8,
     "metadata": {},
     "output_type": "execute_result"
    }
   ],
   "source": [
    "value = 60.25\n",
    "new_value = str(value) # \"100\"(60.25)\n",
    "\n",
    "new_value"
   ]
  },
  {
   "cell_type": "code",
   "execution_count": null,
   "id": "bc2ae24e",
   "metadata": {},
   "outputs": [],
   "source": []
  },
  {
   "cell_type": "code",
   "execution_count": 9,
   "id": "c8bb68c3",
   "metadata": {},
   "outputs": [
    {
     "data": {
      "text/plain": [
       "60"
      ]
     },
     "execution_count": 9,
     "metadata": {},
     "output_type": "execute_result"
    }
   ],
   "source": [
    "value = 60.25\n",
    "new_value = int(value)\n",
    "\n",
    "new_value"
   ]
  },
  {
   "cell_type": "code",
   "execution_count": null,
   "id": "5078e183",
   "metadata": {},
   "outputs": [],
   "source": []
  },
  {
   "cell_type": "code",
   "execution_count": 40,
   "id": "3dd1eb3a",
   "metadata": {},
   "outputs": [],
   "source": [
    "# # Why We Love Jupyter Notebook...\n",
    "\n",
    "# 1. last line has default print type\n",
    "# 2. there is object smart suggestions (TAB)\n",
    "# 3. There is mothod display (use TAB after .)\n",
    "# 4. Inside the function use \"shift + tab\"\n"
   ]
  },
  {
   "cell_type": "code",
   "execution_count": 26,
   "id": "c84818d4",
   "metadata": {},
   "outputs": [
    {
     "name": "stdout",
     "output_type": "stream",
     "text": [
      "94\n",
      "100\n",
      "4.444444444444445\n"
     ]
    }
   ],
   "source": [
    "print( 100 - 6 )\n",
    "\n",
    "print( 20 * 5 )\n",
    "\n",
    "\n",
    "print( 40 / 9 )"
   ]
  },
  {
   "cell_type": "code",
   "execution_count": 29,
   "id": "5443f29a",
   "metadata": {},
   "outputs": [],
   "source": [
    "new_data = 50"
   ]
  },
  {
   "cell_type": "code",
   "execution_count": 30,
   "id": "4350679e",
   "metadata": {},
   "outputs": [
    {
     "data": {
      "text/plain": [
       "50"
      ]
     },
     "execution_count": 30,
     "metadata": {},
     "output_type": "execute_result"
    }
   ],
   "source": [
    "new_data"
   ]
  },
  {
   "cell_type": "code",
   "execution_count": 32,
   "id": "7eeb19ad",
   "metadata": {},
   "outputs": [],
   "source": [
    "my_string = \"sngdfwgyudjnwbv\""
   ]
  },
  {
   "cell_type": "code",
   "execution_count": 33,
   "id": "f9d3e11c",
   "metadata": {},
   "outputs": [
    {
     "data": {
      "text/plain": [
       "'sngdfwgyudjnwbv'"
      ]
     },
     "execution_count": 33,
     "metadata": {},
     "output_type": "execute_result"
    }
   ],
   "source": [
    "my_string"
   ]
  },
  {
   "cell_type": "code",
   "execution_count": 35,
   "id": "f53e23aa",
   "metadata": {},
   "outputs": [],
   "source": [
    "import keyword\n",
    "# keyword.kwlist"
   ]
  },
  {
   "cell_type": "code",
   "execution_count": null,
   "id": "206c4bc7",
   "metadata": {},
   "outputs": [],
   "source": [
    "# my_string."
   ]
  },
  {
   "cell_type": "code",
   "execution_count": null,
   "id": "866ed516",
   "metadata": {},
   "outputs": [],
   "source": []
  },
  {
   "cell_type": "markdown",
   "id": "0933a56a",
   "metadata": {},
   "source": [
    "# print Function\n",
    "\n",
    "**SYNTAX** : print(value, ..., sep=' ', end='\\n', file=sys.stdout, flush=False)\n",
    " \n",
    "  -- ARGUMENTS --> value, sep, end , file , flush\n",
    "\n",
    "- It is used to display to the output screen\n",
    "- It can be used to display multiple values by using , as a seperator\n",
    "- sep is used to display the value between different arguments\n"
   ]
  },
  {
   "cell_type": "code",
   "execution_count": 41,
   "id": "d2a4cce8",
   "metadata": {},
   "outputs": [
    {
     "name": "stdout",
     "output_type": "stream",
     "text": [
      "Hello\n",
      "Hello World\n",
      "Delhi 2023 104.355 6j True\n"
     ]
    }
   ],
   "source": [
    "print(\"Hello\")\n",
    "print(\"Hello\" , \"World\")\n",
    "print( \"Delhi\" ,                   2023 ,                 104.355 , 6j ,                   True )"
   ]
  },
  {
   "cell_type": "code",
   "execution_count": 42,
   "id": "06cc9e36",
   "metadata": {},
   "outputs": [
    {
     "name": "stdout",
     "output_type": "stream",
     "text": [
      "Delhi---2023---104.355---6j---True\n"
     ]
    }
   ],
   "source": [
    "print( \"Delhi\" , 2023 , 104.355 , 6j , True, sep = \"---\" )"
   ]
  },
  {
   "cell_type": "code",
   "execution_count": 43,
   "id": "77fe21f2",
   "metadata": {},
   "outputs": [
    {
     "name": "stdout",
     "output_type": "stream",
     "text": [
      "Delhi\n",
      "2023\n",
      "104.355\n",
      "6j\n",
      "True\n"
     ]
    }
   ],
   "source": [
    "print( \"Delhi\" , 2023 , 104.355 , 6j , True, sep = \"\\n\" ) # \\n : new line"
   ]
  },
  {
   "cell_type": "code",
   "execution_count": 44,
   "id": "e73e641b",
   "metadata": {},
   "outputs": [
    {
     "name": "stdout",
     "output_type": "stream",
     "text": [
      "Delhi\t2023\t104.355\t6j\tTrue\n"
     ]
    }
   ],
   "source": [
    "print( \"Delhi\" , 2023 , 104.355 , 6j , True, sep = \"\\t\" ) # \\t : tab seperation"
   ]
  },
  {
   "cell_type": "code",
   "execution_count": null,
   "id": "1fc51760",
   "metadata": {},
   "outputs": [],
   "source": []
  },
  {
   "cell_type": "code",
   "execution_count": null,
   "id": "c39258c9",
   "metadata": {},
   "outputs": [],
   "source": []
  },
  {
   "cell_type": "markdown",
   "id": "fb875c13",
   "metadata": {},
   "source": [
    "# input\n",
    "\n",
    " - this function is used to take values from the user\n",
    "  - default value is str"
   ]
  },
  {
   "cell_type": "code",
   "execution_count": 51,
   "id": "89e8d5be",
   "metadata": {},
   "outputs": [
    {
     "name": "stdout",
     "output_type": "stream",
     "text": [
      "Nitish is earning $ 500.25 at the age of  30\n"
     ]
    }
   ],
   "source": [
    "name = \"Nitish\"\n",
    "age = 30\n",
    "salary = 500.25\n",
    "\n",
    "# Nitish is earning $ 500.25  at the age of  30\n",
    "print( name, \"is earning $\", salary, \"at the age of \", age )"
   ]
  },
  {
   "cell_type": "code",
   "execution_count": 57,
   "id": "9334bf22",
   "metadata": {},
   "outputs": [
    {
     "name": "stdout",
     "output_type": "stream",
     "text": [
      "Name : Aradhana\n",
      "Age : 25\n",
      "Salary : 1000.25\n",
      "Aradhana is earning $ 1000.25  at the age of  25\n"
     ]
    }
   ],
   "source": [
    "name = input(\"Name : \")\n",
    "age = input(\"Age : \")\n",
    "salary = input(\"Salary : \")\n",
    "\n",
    "print( name, \"is earning $\", salary, \" at the age of \", age )"
   ]
  },
  {
   "cell_type": "code",
   "execution_count": 58,
   "id": "0b194362",
   "metadata": {},
   "outputs": [
    {
     "name": "stdout",
     "output_type": "stream",
     "text": [
      "Aradhana <class 'str'>\n",
      "25 <class 'str'>\n",
      "1000.25 <class 'str'>\n"
     ]
    }
   ],
   "source": [
    "print( name, type(name) )\n",
    "print( age, type(age) )\n",
    "print( salary, type(salary) )\n"
   ]
  },
  {
   "cell_type": "code",
   "execution_count": null,
   "id": "f8419042",
   "metadata": {},
   "outputs": [],
   "source": []
  },
  {
   "cell_type": "code",
   "execution_count": 48,
   "id": "f84259ae",
   "metadata": {},
   "outputs": [
    {
     "name": "stdout",
     "output_type": "stream",
     "text": [
      "Use OTP 568726  to authorise the current trasaction\n"
     ]
    }
   ],
   "source": [
    "# Q. There is an OTP generated and you have to send it tot the user...\n",
    "\n",
    "otp_value = 568726\n",
    "print( \"Use OTP\", otp_value, \" to authorise the current trasaction\" )\n"
   ]
  },
  {
   "cell_type": "code",
   "execution_count": null,
   "id": "3690566a",
   "metadata": {},
   "outputs": [],
   "source": []
  },
  {
   "cell_type": "code",
   "execution_count": null,
   "id": "911ce63f",
   "metadata": {},
   "outputs": [],
   "source": [
    "name = input(\"Name : \")\n",
    "age = input(\"Age : \")\n",
    "salary = input(\"Salary : \")\n",
    "\n",
    "\"\"\"\n",
    "Dear <user_name>\n",
    "\n",
    "If you invest for next 10 years with 10% of your salary\n",
    "then you can achieve a corpus of <salary+salary*8/100> at the age of <age+10>\n",
    "\n",
    "\"\"\"\n",
    "\n",
    "print( )"
   ]
  },
  {
   "cell_type": "code",
   "execution_count": 55,
   "id": "1c334c58",
   "metadata": {},
   "outputs": [
    {
     "name": "stdout",
     "output_type": "stream",
     "text": [
      "Name : Nitish\n",
      "Age : 30\n",
      "Salary : 100.25\n",
      "Dear Nitish you have new salary of 110.275 at the age of  32\n"
     ]
    }
   ],
   "source": [
    "name = input(\"Name : \")\n",
    "age = int( input(\"Age : \") )\n",
    "salary = float( input(\"Salary : \") )\n",
    "\n",
    "\"Dear <name>, you have new salary of <salary*10%> at the age of <age+2>\"\n",
    "\n",
    "print(\"Dear\", name, \"you have new salary of\", salary + salary * 10 / 100 , \"at the age of \", age+2 )"
   ]
  },
  {
   "cell_type": "code",
   "execution_count": 56,
   "id": "281010f1",
   "metadata": {},
   "outputs": [
    {
     "name": "stdout",
     "output_type": "stream",
     "text": [
      "Nitish <class 'str'>\n",
      "30 <class 'int'>\n",
      "100.25 <class 'float'>\n"
     ]
    }
   ],
   "source": [
    "print( name, type(name) )\n",
    "print( age, type(age) )\n",
    "print( salary, type(salary) )\n"
   ]
  },
  {
   "cell_type": "code",
   "execution_count": null,
   "id": "d8aec6ea",
   "metadata": {},
   "outputs": [],
   "source": []
  },
  {
   "cell_type": "code",
   "execution_count": null,
   "id": "ca6b4614",
   "metadata": {},
   "outputs": [],
   "source": []
  },
  {
   "cell_type": "code",
   "execution_count": null,
   "id": "865785f6",
   "metadata": {},
   "outputs": [],
   "source": []
  },
  {
   "cell_type": "code",
   "execution_count": null,
   "id": "5c7bb7f6",
   "metadata": {},
   "outputs": [],
   "source": []
  }
 ],
 "metadata": {
  "kernelspec": {
   "display_name": "Python 3 (ipykernel)",
   "language": "python",
   "name": "python3"
  },
  "language_info": {
   "codemirror_mode": {
    "name": "ipython",
    "version": 3
   },
   "file_extension": ".py",
   "mimetype": "text/x-python",
   "name": "python",
   "nbconvert_exporter": "python",
   "pygments_lexer": "ipython3",
   "version": "3.9.13"
  }
 },
 "nbformat": 4,
 "nbformat_minor": 5
}
